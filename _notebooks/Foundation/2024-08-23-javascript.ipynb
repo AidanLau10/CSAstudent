{
 "cells": [
  {
   "cell_type": "raw",
   "metadata": {
    "vscode": {
     "languageId": "raw"
    }
   },
   "source": [
    "---\n",
    "layout: post\n",
    "title: Sprint 1 - Javascript\n",
    "description:  Javascript Sprint 1\n",
    "type: issues \n",
    "comments: true\n",
    "permalink: /javascript\n",
    "---"
   ]
  },
  {
   "cell_type": "raw",
   "metadata": {
    "vscode": {
     "languageId": "raw"
    }
   },
   "source": [
    "<button id=\"textchanger\">Click me</button>\n",
    "\n",
    "<script>\n",
    "document.getElementById(\"textchanger\").addEventListener(\"click\", function() {\n",
    "    this.style.backgroundColor = \"blue\"; // Change \"blue\" to any color you prefer\n",
    "  });\n",
    "</script>"
   ]
  }
 ],
 "metadata": {
  "language_info": {
   "name": "python"
  }
 },
 "nbformat": 4,
 "nbformat_minor": 2
}
